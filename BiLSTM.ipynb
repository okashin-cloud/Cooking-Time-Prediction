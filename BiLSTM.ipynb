{
 "cells": [
  {
   "cell_type": "markdown",
   "metadata": {
    "ExecuteTime": {
     "end_time": "2019-10-09T09:23:01.552891Z",
     "start_time": "2019-10-09T09:23:01.548979Z"
    }
   },
   "source": [
    "# import"
   ]
  },
  {
   "cell_type": "code",
   "execution_count": 3,
   "metadata": {
    "ExecuteTime": {
     "end_time": "2020-10-25T05:43:26.291051Z",
     "start_time": "2020-10-25T05:43:26.276347Z"
    }
   },
   "outputs": [],
   "source": [
    "import copy\n",
    "import csv\n",
    "import gc\n",
    "import math\n",
    "import os\n",
    "import random as rn\n",
    "import re\n",
    "from collections import deque\n",
    "\n",
    "import numpy as np\n",
    "import pandas as pd\n",
    "import tensorflow as tf\n",
    "from gensim.models import KeyedVectors, word2vec\n",
    "from IPython.display import HTML, SVG\n",
    "from keras import backend as K\n",
    "from keras import (constraints, initializers, layers, models, optimizers,\n",
    "                   regularizers)\n",
    "from keras.callbacks import EarlyStopping, ModelCheckpoint\n",
    "from keras.engine.topology import Layer\n",
    "from keras.layers import (LSTM, Activation, Average, Bidirectional, Dense,\n",
    "                          Dropout, Embedding, Flatten, Input, Lambda, Masking,\n",
    "                          Permute, Reshape, merge, multiply)\n",
    "from keras.models import Model, Sequential, load_model, model_from_json\n",
    "from keras.preprocessing.sequence import pad_sequences\n",
    "from keras.utils import multi_gpu_model\n",
    "from keras.utils.vis_utils import model_to_dot, plot_model\n",
    "from sklearn.metrics import accuracy_score, mean_squared_error\n",
    "from sklearn.model_selection import GridSearchCV, train_test_split\n",
    "\n",
    "pd.set_option('display.max_columns', 100)"
   ]
  },
  {
   "cell_type": "code",
   "execution_count": 2,
   "metadata": {
    "ExecuteTime": {
     "end_time": "2020-08-22T09:07:25.567370Z",
     "start_time": "2020-08-22T09:07:25.562554Z"
    }
   },
   "outputs": [],
   "source": [
    "import os\n",
    "os.environ[\"CUDA_VISIBLE_DEVICES\"]=\"0\""
   ]
  },
  {
   "cell_type": "markdown",
   "metadata": {},
   "source": [
    "# ハイパーパラメータ"
   ]
  },
  {
   "cell_type": "code",
   "execution_count": 4,
   "metadata": {
    "ExecuteTime": {
     "end_time": "2020-08-22T09:07:26.238955Z",
     "start_time": "2020-08-22T09:07:26.235266Z"
    }
   },
   "outputs": [],
   "source": [
    "gpu_count = 3\n",
    "LEARNING_RATE = 0.01\n",
    "LSTM_UNITS = 64\n",
    "BATCH_SIZE = 16*gpu_count\n",
    "DROPOUT = 0.1\n",
    "EPOCHS = 200\n",
    "ITERATION = 200"
   ]
  },
  {
   "cell_type": "code",
   "execution_count": 5,
   "metadata": {
    "ExecuteTime": {
     "end_time": "2020-08-22T09:07:26.737566Z",
     "start_time": "2020-08-22T09:07:26.242501Z"
    }
   },
   "outputs": [],
   "source": [
    "word2vec_path = '/hoge/hoge.model'\n",
    "word2vec_matrix = word2vec.Word2Vec.load(word2vec_path)"
   ]
  },
  {
   "cell_type": "code",
   "execution_count": 6,
   "metadata": {
    "ExecuteTime": {
     "end_time": "2020-08-22T09:07:26.748527Z",
     "start_time": "2020-08-22T09:07:26.739592Z"
    }
   },
   "outputs": [],
   "source": [
    "import os\n",
    "import numpy as np\n",
    "import tensorflow.python.keras.backend as K\n",
    "import tensorflow as tf\n",
    "import random as rn\n",
    "import json\n",
    "\n",
    "from sklearn.metrics import roc_curve, auc\n",
    "from keras.preprocessing import sequence\n",
    "from keras.backend.tensorflow_backend import set_session\n",
    "\n",
    "#シードの固定\n",
    "def seed(seed):\n",
    "    config = tf.compat.v1.ConfigProto()\n",
    "    config.gpu_options.allow_growth = True\n",
    "    sess = tf.compat.v1.Session(config=config)\n",
    "    tf.compat.v1.keras.backend.set_session(sess)\n",
    "    os.environ['PYTHONHASHSEED'] = '0'\n",
    "    np.random.seed(seed)\n",
    "    rn.seed(seed)\n",
    "    session_conf = tf.compat.v1.ConfigProto(intra_op_parallelism_threads = 1, inter_op_parallelism_threads = 1)\n",
    "    tf.compat.v1.set_random_seed(seed)\n",
    "    session = tf.compat.v1.Session(graph = tf.compat.v1.get_default_graph(), config = session_conf)\n",
    "    tf.compat.v1.keras.backend.set_session(session)"
   ]
  },
  {
   "cell_type": "markdown",
   "metadata": {},
   "source": [
    "# 時間呼び出し"
   ]
  },
  {
   "cell_type": "code",
   "execution_count": 7,
   "metadata": {
    "ExecuteTime": {
     "end_time": "2020-08-22T09:07:27.281985Z",
     "start_time": "2020-08-22T09:07:26.750513Z"
    }
   },
   "outputs": [],
   "source": [
    "train_path = '/hoge/hoge.csv'\n",
    "dev_path = '/hoge/hoge.csv'\n",
    "test_path = '/hoge/hoge.csv'\n",
    "df_id_process_time_turn_divide_time_train = pd.read_csv(train_path)\n",
    "df_id_process_time_turn_divide_time_dev = pd.read_csv(dev_path)\n",
    "df_id_process_time_turn_divide_time_test = pd.read_csv(test_path)"
   ]
  },
  {
   "cell_type": "markdown",
   "metadata": {},
   "source": [
    "## 時間をlogに変換"
   ]
  },
  {
   "cell_type": "code",
   "execution_count": 8,
   "metadata": {
    "ExecuteTime": {
     "end_time": "2020-08-22T09:07:27.288458Z",
     "start_time": "2020-08-22T09:07:27.285016Z"
    }
   },
   "outputs": [],
   "source": [
    "def realtime_to_logtime(x):\n",
    "    if x == 0:\n",
    "        return 0\n",
    "    return math.log(x)"
   ]
  },
  {
   "cell_type": "code",
   "execution_count": null,
   "metadata": {
    "ExecuteTime": {
     "end_time": "2020-01-27T04:06:11.141076Z",
     "start_time": "2020-01-27T04:06:10.667236Z"
    }
   },
   "outputs": [],
   "source": []
  },
  {
   "cell_type": "code",
   "execution_count": 9,
   "metadata": {
    "ExecuteTime": {
     "end_time": "2020-08-22T09:07:27.412522Z",
     "start_time": "2020-08-22T09:07:27.290438Z"
    }
   },
   "outputs": [],
   "source": [
    "#numpy.ndarrayに変換\n",
    "log_time_series_train = df_id_process_time_turn_divide_time_train['time'].apply(realtime_to_logtime)\n",
    "\n",
    "log_time_series_dev = df_id_process_time_turn_divide_time_dev['time'].apply(realtime_to_logtime)\n",
    "\n",
    "log_time_series_test = df_id_process_time_turn_divide_time_test['time'].apply(realtime_to_logtime)"
   ]
  },
  {
   "cell_type": "markdown",
   "metadata": {},
   "source": [
    "## レシピの最大手順をリストにする"
   ]
  },
  {
   "cell_type": "code",
   "execution_count": null,
   "metadata": {},
   "outputs": [],
   "source": [
    "train_max_turn_path = '/hoge/hoge.csv'\n",
    "dev_max_turn_path = '/hoge/hoge.csv'\n",
    "test_max_turn_path = '/hoge/hoge.csv'"
   ]
  },
  {
   "cell_type": "code",
   "execution_count": null,
   "metadata": {
    "ExecuteTime": {
     "end_time": "2020-10-25T05:42:12.506744Z",
     "start_time": "2020-10-25T05:42:12.230596Z"
    }
   },
   "outputs": [],
   "source": [
    "df_max_turn_train= pd.read_csv(train_max_turn_path, sep=\",\")\n",
    "\n",
    "max_turn_train_list = df_max_turn_train.values.tolist()"
   ]
  },
  {
   "cell_type": "code",
   "execution_count": 4,
   "metadata": {
    "ExecuteTime": {
     "end_time": "2020-10-25T05:43:30.762826Z",
     "start_time": "2020-10-25T05:43:30.722010Z"
    }
   },
   "outputs": [],
   "source": [
    "df_max_turn_dev= pd.read_csv(dev_max_turn_path, sep=\",\")\n",
    "\n",
    "max_turn_dev_list = df_max_turn_dev.values.tolist()"
   ]
  },
  {
   "cell_type": "code",
   "execution_count": 12,
   "metadata": {
    "ExecuteTime": {
     "end_time": "2020-08-22T09:07:28.017410Z",
     "start_time": "2020-08-22T09:07:27.973611Z"
    }
   },
   "outputs": [],
   "source": [
    "df_max_turn_test= pd.read_csv(test_max_turn_path, sep=\",\")\n",
    "\n",
    "max_turn_test_list = df_max_turn_test.values.tolist()"
   ]
  },
  {
   "cell_type": "code",
   "execution_count": 13,
   "metadata": {
    "ExecuteTime": {
     "end_time": "2020-08-22T09:07:28.323465Z",
     "start_time": "2020-08-22T09:07:28.210310Z"
    }
   },
   "outputs": [
    {
     "data": {
      "text/plain": [
       "20"
      ]
     },
     "execution_count": 13,
     "metadata": {},
     "output_type": "execute_result"
    }
   ],
   "source": [
    "del df_max_turn_train\n",
    "del df_max_turn_dev\n",
    "del df_max_turn_test\n",
    "gc.collect()"
   ]
  },
  {
   "cell_type": "markdown",
   "metadata": {},
   "source": [
    "## log時間をレシピごとにまとめる"
   ]
  },
  {
   "cell_type": "code",
   "execution_count": 14,
   "metadata": {
    "ExecuteTime": {
     "end_time": "2020-08-22T09:07:28.776704Z",
     "start_time": "2020-08-22T09:07:28.761407Z"
    }
   },
   "outputs": [],
   "source": [
    "def time_procedure_to_process(log_time_series,max_turn_list):\n",
    "    process_log_time_list = []\n",
    "    \n",
    "    count = 0\n",
    "    d = deque(max_turn_list)\n",
    "    #最後のpopが処理されるためにappend\n",
    "    d.append(0)\n",
    "    #divideは各手順の最大手順数\n",
    "    max_turn = d.popleft()\n",
    "    \n",
    "    for log_time in log_time_series:\n",
    "        count += 1\n",
    "        if max_turn[0] == count:\n",
    "            process_log_time_list.append(log_time)\n",
    "            count = 0\n",
    "            max_turn = d.popleft()\n",
    "            \n",
    "    return process_log_time_list"
   ]
  },
  {
   "cell_type": "code",
   "execution_count": 15,
   "metadata": {
    "ExecuteTime": {
     "end_time": "2020-08-22T09:07:28.979966Z",
     "start_time": "2020-08-22T09:07:28.958067Z"
    }
   },
   "outputs": [],
   "source": [
    "log_time_array_train = np.array(time_procedure_to_process(log_time_series_train,max_turn_train_list))"
   ]
  },
  {
   "cell_type": "code",
   "execution_count": 16,
   "metadata": {
    "ExecuteTime": {
     "end_time": "2020-08-22T09:07:29.348039Z",
     "start_time": "2020-08-22T09:07:29.332482Z"
    }
   },
   "outputs": [],
   "source": [
    "log_time_array_dev = np.array(time_procedure_to_process(log_time_series_dev,max_turn_dev_list))"
   ]
  },
  {
   "cell_type": "code",
   "execution_count": 17,
   "metadata": {
    "ExecuteTime": {
     "end_time": "2020-08-22T09:07:29.554224Z",
     "start_time": "2020-08-22T09:07:29.540096Z"
    }
   },
   "outputs": [],
   "source": [
    "log_time_array_test = np.array(time_procedure_to_process(log_time_series_test,max_turn_test_list))"
   ]
  },
  {
   "cell_type": "code",
   "execution_count": 18,
   "metadata": {
    "ExecuteTime": {
     "end_time": "2020-08-22T09:07:29.838085Z",
     "start_time": "2020-08-22T09:07:29.708576Z"
    }
   },
   "outputs": [
    {
     "data": {
      "text/plain": [
       "100"
      ]
     },
     "execution_count": 18,
     "metadata": {},
     "output_type": "execute_result"
    }
   ],
   "source": [
    "del log_time_series_train\n",
    "del log_time_series_dev\n",
    "del log_time_series_test\n",
    "gc.collect()"
   ]
  },
  {
   "cell_type": "markdown",
   "metadata": {},
   "source": [
    "# 単語にインデックスを割り当てる"
   ]
  },
  {
   "cell_type": "code",
   "execution_count": 19,
   "metadata": {
    "ExecuteTime": {
     "end_time": "2020-08-22T09:07:30.402846Z",
     "start_time": "2020-08-22T09:07:30.397930Z"
    }
   },
   "outputs": [],
   "source": [
    "word_list = word2vec_matrix.wv.index2word"
   ]
  },
  {
   "cell_type": "code",
   "execution_count": 20,
   "metadata": {
    "ExecuteTime": {
     "end_time": "2020-08-22T09:07:30.493892Z",
     "start_time": "2020-08-22T09:07:30.475175Z"
    }
   },
   "outputs": [],
   "source": [
    "word_index_dic = {}\n",
    "index = 1\n",
    "#unkのindexは０とする\n",
    "word_index_dic['<unk>'] = 0\n",
    "for word in word_list:\n",
    "    if word not in word_index_dic:\n",
    "        word_index_dic[word] = index\n",
    "        index += 1"
   ]
  },
  {
   "cell_type": "markdown",
   "metadata": {},
   "source": [
    "## mecabしたレシピを対応づける"
   ]
  },
  {
   "cell_type": "code",
   "execution_count": null,
   "metadata": {},
   "outputs": [],
   "source": [
    "train_mecab_path = '/hoge/hoge.csv'\n",
    "dev_mecab_path = '/hoge/hoge.csv'\n",
    "test_mecab_path = '/hoge/hoge.csv'"
   ]
  },
  {
   "cell_type": "code",
   "execution_count": 21,
   "metadata": {
    "ExecuteTime": {
     "end_time": "2020-08-22T09:07:30.812832Z",
     "start_time": "2020-08-22T09:07:30.643442Z"
    }
   },
   "outputs": [],
   "source": [
    "with open(train_mecab_path) as f:\n",
    "    reader = csv.reader(f)\n",
    "    mecab_procedure_words_train_list = [row for row in reader]"
   ]
  },
  {
   "cell_type": "code",
   "execution_count": 22,
   "metadata": {
    "ExecuteTime": {
     "end_time": "2020-08-22T09:07:30.959271Z",
     "start_time": "2020-08-22T09:07:30.815094Z"
    }
   },
   "outputs": [],
   "source": [
    "with open(dev_mecab_path) as f:\n",
    "    reader = csv.reader(f)\n",
    "    mecab_procedure_words_dev_list = [row for row in reader]"
   ]
  },
  {
   "cell_type": "code",
   "execution_count": 23,
   "metadata": {
    "ExecuteTime": {
     "end_time": "2020-08-22T09:07:31.301475Z",
     "start_time": "2020-08-22T09:07:30.961860Z"
    }
   },
   "outputs": [],
   "source": [
    "with open(test_mecab_path) as f:\n",
    "    reader = csv.reader(f)\n",
    "    mecab_procedure_words_test_list = [row for row in reader]"
   ]
  },
  {
   "cell_type": "markdown",
   "metadata": {},
   "source": [
    "## 手順をまとめる"
   ]
  },
  {
   "cell_type": "code",
   "execution_count": 24,
   "metadata": {
    "ExecuteTime": {
     "end_time": "2020-08-22T09:07:31.346181Z",
     "start_time": "2020-08-22T09:07:31.304005Z"
    }
   },
   "outputs": [],
   "source": [
    "def procedure_to_process(mecab_procedure_words_list,max_turn_list):\n",
    "        process_words_list = []\n",
    "        process_word_list = []\n",
    "        count = 0\n",
    "        d = deque(max_turn_list)\n",
    "        d.append(0)\n",
    "        \n",
    "        max_turn = d.popleft()\n",
    "        \n",
    "        \n",
    "        for procedure_word_list in mecab_procedure_words_list:\n",
    "            count += 1\n",
    "            procedure_word_list = deque(procedure_word_list)\n",
    "            procedure_word_list.popleft()\n",
    "            procedure_word_list.pop()\n",
    "            \n",
    "            if count == max_turn[0]:\n",
    "                process_word_list.extend(procedure_word_list)\n",
    "                \n",
    "                process_word_list.insert(0,'<bop>')\n",
    "                process_word_list.append('<eop>')\n",
    "                \n",
    "                process_words_list.append(process_word_list)\n",
    "                process_word_list = []\n",
    "                count = 0\n",
    "                max_turn = d.popleft()\n",
    "            else:\n",
    "                process_word_list.extend(procedure_word_list)\n",
    "            \n",
    "        return process_words_list            "
   ]
  },
  {
   "cell_type": "code",
   "execution_count": 25,
   "metadata": {
    "ExecuteTime": {
     "end_time": "2020-08-22T09:07:31.484029Z",
     "start_time": "2020-08-22T09:07:31.349983Z"
    }
   },
   "outputs": [],
   "source": [
    "mecab_process_words_train_list = procedure_to_process(mecab_procedure_words_train_list,max_turn_train_list)"
   ]
  },
  {
   "cell_type": "code",
   "execution_count": 26,
   "metadata": {
    "ExecuteTime": {
     "end_time": "2020-08-22T09:07:31.536982Z",
     "start_time": "2020-08-22T09:07:31.486125Z"
    }
   },
   "outputs": [],
   "source": [
    "mecab_process_words_dev_list = procedure_to_process(mecab_procedure_words_dev_list,max_turn_dev_list)"
   ]
  },
  {
   "cell_type": "code",
   "execution_count": 27,
   "metadata": {
    "ExecuteTime": {
     "end_time": "2020-08-22T09:07:31.657243Z",
     "start_time": "2020-08-22T09:07:31.538874Z"
    }
   },
   "outputs": [],
   "source": [
    "mecab_process_words_test_list = procedure_to_process(mecab_procedure_words_test_list,max_turn_test_list)"
   ]
  },
  {
   "cell_type": "code",
   "execution_count": 28,
   "metadata": {
    "ExecuteTime": {
     "end_time": "2020-08-22T09:07:31.859636Z",
     "start_time": "2020-08-22T09:07:31.660478Z"
    }
   },
   "outputs": [
    {
     "data": {
      "text/plain": [
       "0"
      ]
     },
     "execution_count": 28,
     "metadata": {},
     "output_type": "execute_result"
    }
   ],
   "source": [
    "del mecab_procedure_words_train_list\n",
    "del mecab_procedure_words_dev_list\n",
    "# del mecab_procedure_words_test_list\n",
    "gc.collect()"
   ]
  },
  {
   "cell_type": "code",
   "execution_count": 29,
   "metadata": {
    "ExecuteTime": {
     "end_time": "2020-08-22T09:07:31.914983Z",
     "start_time": "2020-08-22T09:07:31.861107Z"
    }
   },
   "outputs": [],
   "source": [
    "def get_words_index_list(mecab_procedure_words_list,max_turn_list):\n",
    "    process_index_list = []\n",
    "    d = deque(max_turn_list)\n",
    "    #最後のpopが処理されるためにappend\n",
    "    d.append(0)\n",
    "    #divideは各手順の最大手順数\n",
    "    max_turn = d.popleft()\n",
    "\n",
    "    for procedure_words_list in mecab_procedure_words_list:\n",
    "        procedure_index_list = []\n",
    "  \n",
    "        for word in procedure_words_list:\n",
    "            procedure_index_list.append(word_index_dic[word])\n",
    "\n",
    "        process_index_list.append(procedure_index_list)\n",
    "    return process_index_list            "
   ]
  },
  {
   "cell_type": "code",
   "execution_count": 30,
   "metadata": {
    "ExecuteTime": {
     "end_time": "2020-08-22T09:07:32.220016Z",
     "start_time": "2020-08-22T09:07:31.917687Z"
    }
   },
   "outputs": [],
   "source": [
    "word_index_train_list = get_words_index_list(mecab_process_words_train_list,max_turn_train_list)"
   ]
  },
  {
   "cell_type": "code",
   "execution_count": 31,
   "metadata": {
    "ExecuteTime": {
     "end_time": "2020-08-22T09:07:32.327166Z",
     "start_time": "2020-08-22T09:07:32.222677Z"
    }
   },
   "outputs": [],
   "source": [
    "word_index_dev_list = get_words_index_list(mecab_process_words_dev_list,max_turn_dev_list)"
   ]
  },
  {
   "cell_type": "code",
   "execution_count": 32,
   "metadata": {
    "ExecuteTime": {
     "end_time": "2020-08-22T09:07:38.288411Z",
     "start_time": "2020-08-22T09:07:32.329370Z"
    }
   },
   "outputs": [],
   "source": [
    "#testデータが元のままでunkをunkとしていなかった\n",
    "processes_test_list = []\n",
    "for process in mecab_process_words_test_list:\n",
    "    process_test_list = []\n",
    "    for word in process:\n",
    "        if word in word_list:\n",
    "            process_test_list.append(word)\n",
    "        else:\n",
    "            process_test_list.append('<unk>')\n",
    "    processes_test_list.append(process_test_list)"
   ]
  },
  {
   "cell_type": "code",
   "execution_count": 33,
   "metadata": {
    "ExecuteTime": {
     "end_time": "2020-08-22T09:07:38.498954Z",
     "start_time": "2020-08-22T09:07:38.294406Z"
    }
   },
   "outputs": [],
   "source": [
    "word_index_test_list = get_words_index_list(processes_test_list,max_turn_test_list)"
   ]
  },
  {
   "cell_type": "markdown",
   "metadata": {},
   "source": [
    "# trainだけベクトルを持つembedding_matrixの作成"
   ]
  },
  {
   "cell_type": "code",
   "execution_count": 34,
   "metadata": {
    "ExecuteTime": {
     "end_time": "2020-08-22T09:07:38.510006Z",
     "start_time": "2020-08-22T09:07:38.503824Z"
    }
   },
   "outputs": [],
   "source": [
    "#valueからkeyを抽出\n",
    "def get_keys_from_value(d, val):\n",
    "    return [k for k, v in d.items() if v == val]"
   ]
  },
  {
   "cell_type": "code",
   "execution_count": null,
   "metadata": {},
   "outputs": [],
   "source": [
    "size = len(word2vec_matrix[word_list[0]].tolist())"
   ]
  },
  {
   "cell_type": "code",
   "execution_count": 36,
   "metadata": {
    "ExecuteTime": {
     "end_time": "2020-08-22T09:07:38.618996Z",
     "start_time": "2020-08-22T09:07:38.570740Z"
    }
   },
   "outputs": [],
   "source": [
    "unk_list = np.zeros(size).tolist()"
   ]
  },
  {
   "cell_type": "code",
   "execution_count": null,
   "metadata": {},
   "outputs": [],
   "source": [
    "#train,dev,test全ての単語を使用\n",
    "#trainに対応しないdev,testの単語は全て０ベクトルとなる\n",
    "#<unk>も０ベクトルとする\n",
    "size = len(word2vec_matrix[word_list[0]].tolist())\n",
    "embedding_matrix = np.zeros((len(word_index_dic)+1, size))\n",
    "used_index = []\n",
    "for procedure_index in word_index_train_list:\n",
    "    for index in procedure_index:\n",
    "        if index not in used_index:\n",
    "            word = get_keys_from_value(word_index_dic,index)[0]\n",
    "            if word == '<unk>':\n",
    "                embedding_matrix[index] = unk_list\n",
    "            else:\n",
    "                embedding_matrix[index] = word2vec_matrix[word].tolist()\n",
    "            used_index.append(index)"
   ]
  },
  {
   "cell_type": "code",
   "execution_count": null,
   "metadata": {},
   "outputs": [],
   "source": [
    "del used_index\n",
    "gc.collect()"
   ]
  },
  {
   "cell_type": "code",
   "execution_count": 39,
   "metadata": {
    "ExecuteTime": {
     "end_time": "2020-08-22T09:07:56.019126Z",
     "start_time": "2020-08-22T09:07:55.948086Z"
    }
   },
   "outputs": [],
   "source": [
    "max_len_train = max([len(i) for i in word_index_train_list])\n",
    "max_len_dev = max([len(i) for i in word_index_dev_list])\n",
    "max_len_test = max([len(i) for i in word_index_test_list])"
   ]
  },
  {
   "cell_type": "code",
   "execution_count": 40,
   "metadata": {
    "ExecuteTime": {
     "end_time": "2020-08-22T09:07:56.076173Z",
     "start_time": "2020-08-22T09:07:56.023138Z"
    }
   },
   "outputs": [],
   "source": [
    "if max_len_train > max_len_test and max_len_train > max_len_dev:\n",
    "    max_len = max_len_train\n",
    "elif max_len_dev > max_len_train and max_len_dev > max_len_test:\n",
    "        max_len = max_len_dev\n",
    "else:\n",
    "    max_len = max_len_test"
   ]
  },
  {
   "cell_type": "code",
   "execution_count": 41,
   "metadata": {
    "ExecuteTime": {
     "end_time": "2020-08-22T09:07:56.133959Z",
     "start_time": "2020-08-22T09:07:56.080171Z"
    }
   },
   "outputs": [],
   "source": [
    "# max_len_train,max_len_dev,max_len_test"
   ]
  },
  {
   "cell_type": "markdown",
   "metadata": {},
   "source": [
    "# パディング"
   ]
  },
  {
   "cell_type": "markdown",
   "metadata": {},
   "source": [
    "## 後ろpadding"
   ]
  },
  {
   "cell_type": "code",
   "execution_count": 42,
   "metadata": {
    "ExecuteTime": {
     "end_time": "2020-08-22T09:07:56.192384Z",
     "start_time": "2020-08-22T09:07:56.137656Z"
    }
   },
   "outputs": [],
   "source": [
    "index_for_padding = len(embedding_matrix)-1"
   ]
  },
  {
   "cell_type": "code",
   "execution_count": 43,
   "metadata": {
    "ExecuteTime": {
     "end_time": "2020-08-22T09:07:56.242440Z",
     "start_time": "2020-08-22T09:07:56.196086Z"
    }
   },
   "outputs": [],
   "source": [
    "def padding_index_list(num):\n",
    "    return [index_for_padding] * num"
   ]
  },
  {
   "cell_type": "code",
   "execution_count": 44,
   "metadata": {
    "ExecuteTime": {
     "end_time": "2020-08-22T09:07:56.870246Z",
     "start_time": "2020-08-22T09:07:56.245936Z"
    }
   },
   "outputs": [],
   "source": [
    "copy_index_train_list = copy.deepcopy(word_index_train_list)\n",
    "\n",
    "for index,word_index_list in enumerate(copy_index_train_list):\n",
    "    pad_num = max_len - len(word_index_list)\n",
    "    word_index_train_list[index].extend(padding_index_list(pad_num))"
   ]
  },
  {
   "cell_type": "code",
   "execution_count": 45,
   "metadata": {
    "ExecuteTime": {
     "end_time": "2020-08-22T09:07:57.147550Z",
     "start_time": "2020-08-22T09:07:56.872510Z"
    }
   },
   "outputs": [],
   "source": [
    "copy_index_dev_list = copy.deepcopy(word_index_dev_list)\n",
    "\n",
    "for index,word_index_list in enumerate(copy_index_dev_list):\n",
    "    pad_num = max_len - len(word_index_list)\n",
    "    word_index_dev_list[index].extend(padding_index_list(pad_num))"
   ]
  },
  {
   "cell_type": "markdown",
   "metadata": {},
   "source": [
    "## paddingされたものの場所をあらわすone-hot-vector"
   ]
  },
  {
   "cell_type": "code",
   "execution_count": 46,
   "metadata": {
    "ExecuteTime": {
     "end_time": "2020-08-22T09:07:57.153558Z",
     "start_time": "2020-08-22T09:07:57.149537Z"
    }
   },
   "outputs": [],
   "source": [
    "row_train = len(word_index_train_list[0])\n",
    "row_dev = len(word_index_dev_list[0])\n",
    "\n",
    "column = 64\n",
    "\n",
    "batch_train = len(word_index_train_list)\n",
    "batch_dev = len(word_index_dev_list)"
   ]
  },
  {
   "cell_type": "code",
   "execution_count": 47,
   "metadata": {
    "ExecuteTime": {
     "end_time": "2020-08-22T09:08:48.105802Z",
     "start_time": "2020-08-22T09:07:57.155902Z"
    }
   },
   "outputs": [],
   "source": [
    "#(barch,row,column)のlistを0で初期化\n",
    "paded_one_hot_vector_train_list = [[[False] * column for i in range(row_train)] for j in range(batch_train)]\n",
    "word_len_train_list = [len(i) for i in mecab_process_words_train_list]\n",
    "\n",
    "paded_one_hot_vector_dev_list = [[[False] * column for i in range(row_dev)] for j in range(batch_dev)]\n",
    "word_len_dev_list = [len(i) for i in mecab_process_words_dev_list]"
   ]
  },
  {
   "cell_type": "code",
   "execution_count": null,
   "metadata": {},
   "outputs": [],
   "source": [
    "del mecab_process_words_train_list\n",
    "del mecab_process_words_dev_list\n",
    "\n",
    "gc.collect()"
   ]
  },
  {
   "cell_type": "code",
   "execution_count": 49,
   "metadata": {
    "ExecuteTime": {
     "end_time": "2020-08-22T09:08:55.218478Z",
     "start_time": "2020-08-22T09:08:54.629443Z"
    }
   },
   "outputs": [],
   "source": [
    "#paddingされた所は0,されていない所は1のlist\n",
    "\n",
    "for index,word_len in enumerate(word_len_train_list):\n",
    "    \n",
    "    #padding以降を1に変換\n",
    "    #後ろpaddingを想定\n",
    "    for i in range(word_len):\n",
    "        paded_one_hot_vector_train_list[index][i] = [True]* column\n",
    "\n",
    "for index,word_len in enumerate(word_len_dev_list):\n",
    "    \n",
    "    #padding以降を1に変換\n",
    "    #後ろpaddingを想定\n",
    "    for i in range(word_len):\n",
    "        paded_one_hot_vector_dev_list[index][i] = [True] * column"
   ]
  },
  {
   "cell_type": "code",
   "execution_count": 50,
   "metadata": {
    "ExecuteTime": {
     "end_time": "2020-08-22T09:09:27.150660Z",
     "start_time": "2020-08-22T09:08:55.220582Z"
    }
   },
   "outputs": [],
   "source": [
    "paded_one_hot_vector_train_array = np.array(paded_one_hot_vector_train_list)\n",
    "paded_one_hot_vector_dev_array = np.array(paded_one_hot_vector_dev_list)"
   ]
  },
  {
   "cell_type": "code",
   "execution_count": null,
   "metadata": {},
   "outputs": [],
   "source": [
    "del paded_one_hot_vector_train_list\n",
    "del paded_one_hot_vector_dev_list\n",
    "gc.collect()"
   ]
  },
  {
   "cell_type": "markdown",
   "metadata": {},
   "source": [
    "# モデルの構築"
   ]
  },
  {
   "cell_type": "code",
   "execution_count": 52,
   "metadata": {
    "ExecuteTime": {
     "end_time": "2020-08-22T09:09:30.719280Z",
     "start_time": "2020-08-22T09:09:30.678016Z"
    }
   },
   "outputs": [],
   "source": [
    "time_steps = max_len\n",
    "input_dim = size"
   ]
  },
  {
   "cell_type": "markdown",
   "metadata": {},
   "source": [
    "## LSTM"
   ]
  },
  {
   "cell_type": "code",
   "execution_count": 54,
   "metadata": {
    "ExecuteTime": {
     "end_time": "2020-08-22T09:09:30.876537Z",
     "start_time": "2020-08-22T09:09:30.799066Z"
    },
    "code_folding": []
   },
   "outputs": [],
   "source": [
    "def model_attention_applied_after_lstm():\n",
    "    #重みを固定する\n",
    "    seed(1)\n",
    "    inputs = Input(shape=(time_steps,), name='main_input')\n",
    "    mask_input = Input(shape=(time_steps,64,),name='mask_input')\n",
    "    \n",
    "    embedding = Embedding(\n",
    "        input_dim = embedding_matrix.shape[0],\n",
    "        output_dim = embedding_matrix.shape[1],\n",
    "        weights = [embedding_matrix],\n",
    "        trainable = False,\n",
    "        name = 'embedding')(inputs)\n",
    "\n",
    "    #Dropout\n",
    "    embedding = Dropout(DROPOUT)(embedding) \n",
    "\n",
    "    lstm_out = Bidirectional(\n",
    "        LSTM(LSTM_UNITS,\n",
    "             return_sequences=True,\n",
    "             activation='tanh',\n",
    "             name='biLSTM'),\n",
    "        merge_mode='ave')(embedding)\n",
    "    \n",
    "    mul_ = Lambda(\n",
    "        lambda x: x[0]*x[1],\n",
    "        name='attention_mul')([lstm_out, mask_input])\n",
    "\n",
    "    divide_ = Lambda(\n",
    "        lambda x: x/max_len,\n",
    "        name='divide')(mul_)\n",
    "\n",
    "    merge_ = Lambda(\n",
    "        lambda x: K.sum(x, axis=1),\n",
    "        output_shape=lambda x: (x[0], x[2]),\n",
    "        name=\"sum_\")(divide_)\n",
    "    \n",
    "    output = Dense(1, name='regression')(merge_)\n",
    "\n",
    "\n",
    "    model = Model(inputs=[inputs,mask_input], output=output)\n",
    "    adam = optimizers.Adam()\n",
    "    model=multi_gpu_model(model,gpus=gpu_count)\n",
    "    model.compile(loss='mean_squared_error', optimizer=adam)\n",
    "    return model"
   ]
  },
  {
   "cell_type": "code",
   "execution_count": 55,
   "metadata": {
    "ExecuteTime": {
     "end_time": "2020-08-22T09:09:30.950999Z",
     "start_time": "2020-08-22T09:09:30.878118Z"
    }
   },
   "outputs": [],
   "source": [
    "#model_plot = model_attention_applied_after_lstm()\n",
    "#plot_model(model_plot,show_shapes=True,to_file='/home/okazaki/time_measure/data_file/result_file/model.png')"
   ]
  },
  {
   "cell_type": "markdown",
   "metadata": {},
   "source": [
    "# データサイズ"
   ]
  },
  {
   "cell_type": "code",
   "execution_count": 56,
   "metadata": {
    "ExecuteTime": {
     "end_time": "2020-08-22T09:09:31.043583Z",
     "start_time": "2020-08-22T09:09:30.952807Z"
    }
   },
   "outputs": [],
   "source": [
    "train_recipe_size = 10000\n",
    "valid_recipe_size = 5000\n"
   ]
  },
  {
   "cell_type": "code",
   "execution_count": 57,
   "metadata": {
    "ExecuteTime": {
     "end_time": "2020-08-22T09:09:31.697637Z",
     "start_time": "2020-08-22T09:09:31.047025Z"
    }
   },
   "outputs": [],
   "source": [
    "word_index_train_nparray = np.array(word_index_train_list)"
   ]
  },
  {
   "cell_type": "code",
   "execution_count": 58,
   "metadata": {
    "ExecuteTime": {
     "end_time": "2020-08-22T09:09:32.037282Z",
     "start_time": "2020-08-22T09:09:31.699507Z"
    }
   },
   "outputs": [],
   "source": [
    "word_index_dev_nparray = np.array(word_index_dev_list)"
   ]
  },
  {
   "cell_type": "code",
   "execution_count": 59,
   "metadata": {
    "ExecuteTime": {
     "end_time": "2020-08-22T09:09:32.091588Z",
     "start_time": "2020-08-22T09:09:32.041325Z"
    }
   },
   "outputs": [],
   "source": [
    "X_train = word_index_train_nparray[:train_recipe_size]\n",
    "X_valid = word_index_dev_nparray[:valid_recipe_size]\n",
    "\n",
    "Y_train = log_time_array_train[:train_recipe_size]\n",
    "Y_valid = log_time_array_dev[:valid_recipe_size]\n",
    "\n",
    "mask_train = paded_one_hot_vector_train_array[:train_recipe_size]\n",
    "mask_valid = paded_one_hot_vector_dev_array[:valid_recipe_size]"
   ]
  },
  {
   "cell_type": "code",
   "execution_count": null,
   "metadata": {},
   "outputs": [],
   "source": [
    "del word_index_train_nparray\n",
    "del word_index_dev_nparray\n",
    "\n",
    "del log_time_array_train\n",
    "del log_time_array_dev\n",
    "\n",
    "del paded_one_hot_vector_train_array\n",
    "del paded_one_hot_vector_dev_array\n",
    "\n",
    "gc.collect()"
   ]
  },
  {
   "cell_type": "markdown",
   "metadata": {},
   "source": [
    "# fit"
   ]
  },
  {
   "cell_type": "code",
   "execution_count": 62,
   "metadata": {
    "ExecuteTime": {
     "end_time": "2020-08-22T09:09:32.528437Z",
     "start_time": "2020-08-22T09:09:32.474881Z"
    }
   },
   "outputs": [],
   "source": [
    "time_dev_list = df_id_process_time_turn_divide_time_dev['time'].tolist()\n",
    "time_dev_list = time_procedure_to_process(time_dev_list,max_turn_dev_list)\n",
    "a1=(math.log(5)+math.log(10))/2\n",
    "a2=(math.log(10)+math.log(15))/2\n",
    "a3=(math.log(15)+math.log(30))/2\n",
    "a4=(math.log(30)+math.log(60))/2"
   ]
  },
  {
   "cell_type": "code",
   "execution_count": 63,
   "metadata": {
    "ExecuteTime": {
     "end_time": "2020-08-22T09:09:32.585164Z",
     "start_time": "2020-08-22T09:09:32.530047Z"
    }
   },
   "outputs": [],
   "source": [
    "def strict_acc(pred_dev):\n",
    "    c5 = 0\n",
    "    c10 = 0\n",
    "    c15 = 0\n",
    "    c30 = 0\n",
    "    c60 = 0\n",
    "    for ans_time, pred_time in zip(time_dev_list, pred_dev):\n",
    "        if ans_time == 5:\n",
    "            if pred_time <= a1:\n",
    "                c5 += 1\n",
    "        elif ans_time == 10:\n",
    "            if a1 < pred_time <= a2:\n",
    "                c10 += 1\n",
    "        elif ans_time == 15:\n",
    "            if a2 < pred_time <= a3:\n",
    "                c15 += 1\n",
    "        elif ans_time == 30:\n",
    "            if a3 < pred_time <= a4:\n",
    "                c30 += 1\n",
    "        elif ans_time == 60:\n",
    "            if a4 < pred_time:\n",
    "                c60 += 1\n",
    " \n",
    "    return (c5+c10+c15+c30+c60)/len(pred_dev)"
   ]
  },
  {
   "cell_type": "code",
   "execution_count": null,
   "metadata": {},
   "outputs": [],
   "source": [
    "model = model_attention_applied_after_lstm()\n",
    "\n",
    "y_train = Y_train\n",
    "\n",
    "count = 0\n",
    "before_loss = 100\n",
    "best_loss = 100\n",
    "save_path = '/hoge/hoge.hdf5'\n",
    "\n",
    "j = 0\n",
    "max_ACC = 0\n",
    "seed(1)\n",
    "# trainingにあるレシピをROUND回ループさせる\n",
    "while(1):\n",
    "    print('######################')\n",
    "    j += 1\n",
    "    print('%d回目' % j)\n",
    "    \n",
    "    his = model.fit([X_train, mask_train], y_train,\n",
    "                    batch_size=BATCH_SIZE, epochs=1, verbose=1)\n",
    "\n",
    "    train_loss = his.history['loss'][0]\n",
    "    if best_loss > train_loss:\n",
    "        best_loss = train_loss\n",
    "        count = 0\n",
    "    else:\n",
    "        count += 1\n",
    "    # best_lossが10回連続更新されなかったらbreak\n",
    "    if count >= 10:\n",
    "        break \n",
    "    \n",
    "    \n",
    "    pred_dev = model.predict([X_valid, mask_valid]).flatten()\n",
    "    acc_dev = strict_acc(pred_dev)\n",
    "   \n",
    "\n",
    "    # best_modelの保存\n",
    "    if max_ACC < acc_dev:\n",
    "        json_string = model.to_json()\n",
    "        model.save(save_path)\n",
    "        y_train_best = y_train\n",
    "        jj = j\n",
    "        # 最小のMSEを変更\n",
    "        max_ACC = acc_dev\n",
    "\n",
    "    print('acc_dev=%f %d回目:max_ACC=%f' % (acc_dev, jj, max_ACC))\n",
    "\n"
   ]
  },
  {
   "cell_type": "code",
   "execution_count": null,
   "metadata": {},
   "outputs": [],
   "source": []
  },
  {
   "cell_type": "code",
   "execution_count": null,
   "metadata": {},
   "outputs": [],
   "source": []
  },
  {
   "cell_type": "code",
   "execution_count": null,
   "metadata": {},
   "outputs": [],
   "source": []
  },
  {
   "cell_type": "code",
   "execution_count": null,
   "metadata": {},
   "outputs": [],
   "source": []
  },
  {
   "cell_type": "code",
   "execution_count": null,
   "metadata": {},
   "outputs": [],
   "source": []
  },
  {
   "cell_type": "code",
   "execution_count": null,
   "metadata": {},
   "outputs": [],
   "source": []
  },
  {
   "cell_type": "code",
   "execution_count": null,
   "metadata": {},
   "outputs": [],
   "source": []
  },
  {
   "cell_type": "code",
   "execution_count": null,
   "metadata": {},
   "outputs": [],
   "source": []
  },
  {
   "cell_type": "code",
   "execution_count": null,
   "metadata": {},
   "outputs": [],
   "source": []
  }
 ],
 "metadata": {
  "kernelspec": {
   "display_name": "Python 3",
   "language": "python",
   "name": "python3"
  },
  "language_info": {
   "codemirror_mode": {
    "name": "ipython",
    "version": 3
   },
   "file_extension": ".py",
   "mimetype": "text/x-python",
   "name": "python",
   "nbconvert_exporter": "python",
   "pygments_lexer": "ipython3",
   "version": "3.7.3"
  },
  "toc": {
   "base_numbering": 1,
   "nav_menu": {},
   "number_sections": true,
   "sideBar": true,
   "skip_h1_title": false,
   "title_cell": "Table of Contents",
   "title_sidebar": "Contents",
   "toc_cell": false,
   "toc_position": {
    "height": "calc(100% - 180px)",
    "left": "10px",
    "top": "150px",
    "width": "165px"
   },
   "toc_section_display": true,
   "toc_window_display": true
  },
  "varInspector": {
   "cols": {
    "lenName": 16,
    "lenType": 16,
    "lenVar": 40
   },
   "kernels_config": {
    "python": {
     "delete_cmd_postfix": "",
     "delete_cmd_prefix": "del ",
     "library": "var_list.py",
     "varRefreshCmd": "print(var_dic_list())"
    },
    "r": {
     "delete_cmd_postfix": ") ",
     "delete_cmd_prefix": "rm(",
     "library": "var_list.r",
     "varRefreshCmd": "cat(var_dic_list()) "
    }
   },
   "types_to_exclude": [
    "module",
    "function",
    "builtin_function_or_method",
    "instance",
    "_Feature"
   ],
   "window_display": false
  }
 },
 "nbformat": 4,
 "nbformat_minor": 2
}
