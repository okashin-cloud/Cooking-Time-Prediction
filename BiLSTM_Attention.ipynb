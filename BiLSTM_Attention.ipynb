{
 "cells": [
  {
   "cell_type": "markdown",
   "metadata": {
    "ExecuteTime": {
     "end_time": "2019-10-09T09:23:01.552891Z",
     "start_time": "2019-10-09T09:23:01.548979Z"
    }
   },
   "source": [
    "# import"
   ]
  },
  {
   "cell_type": "code",
   "execution_count": 2,
   "metadata": {
    "ExecuteTime": {
     "end_time": "2020-10-25T05:57:26.447965Z",
     "start_time": "2020-10-25T05:57:26.438024Z"
    }
   },
   "outputs": [],
   "source": [
    "import copy\n",
    "import csv\n",
    "import gc\n",
    "import math\n",
    "import os\n",
    "import random as rn\n",
    "import re\n",
    "from collections import deque\n",
    "\n",
    "import numpy as np\n",
    "import pandas as pd\n",
    "import tensorflow as tf\n",
    "from gensim.models import KeyedVectors, word2vec\n",
    "from IPython.display import HTML, SVG\n",
    "from keras import backend as K\n",
    "from keras import (constraints, initializers, layers, models, optimizers,\n",
    "                   regularizers)\n",
    "from keras.callbacks import EarlyStopping, ModelCheckpoint\n",
    "from keras.engine.topology import Layer\n",
    "from keras.layers import (LSTM, Activation, Average, Bidirectional, Dense,\n",
    "                          Dropout, Embedding, Flatten, Input, Lambda, Masking,\n",
    "                          Permute, Reshape, merge, multiply)\n",
    "from keras.models import Model, Sequential, load_model, model_from_json\n",
    "from keras.preprocessing.sequence import pad_sequences\n",
    "from keras.utils.vis_utils import model_to_dot, plot_model\n",
    "from sklearn.metrics import accuracy_score, mean_squared_error\n",
    "from sklearn.model_selection import GridSearchCV, train_test_split\n",
    "\n",
    "pd.set_option('display.max_columns', 100)"
   ]
  },
  {
   "cell_type": "markdown",
   "metadata": {},
   "source": [
    "# ハイパーパラメータ"
   ]
  },
  {
   "cell_type": "code",
   "execution_count": 2,
   "metadata": {
    "ExecuteTime": {
     "end_time": "2020-08-19T03:41:26.027668Z",
     "start_time": "2020-08-19T03:41:26.024203Z"
    }
   },
   "outputs": [],
   "source": [
    "LEARNING_RATE = 0.01\n",
    "LSTM_UNITS = 64\n",
    "BATCH_SIZE = 16\n",
    "DROPOUT = 0.1\n",
    "#NUM_EPOCHS = 10\n",
    "EPOCHS = 200\n",
    "ITERATION = 200\n",
    "#DATA_SIZE = 500000"
   ]
  },
  {
   "cell_type": "code",
   "execution_count": null,
   "metadata": {},
   "outputs": [],
   "source": [
    "word2vec_path = '/hoge/hoge.model'\n",
    "word2vec_matrix = word2vec.Word2Vec.load(word2vec_path)"
   ]
  },
  {
   "cell_type": "code",
   "execution_count": null,
   "metadata": {},
   "outputs": [],
   "source": [
    "import os\n",
    "import numpy as np\n",
    "import tensorflow.python.keras.backend as K\n",
    "import tensorflow as tf\n",
    "import random as rn\n",
    "import json\n",
    "\n",
    "from sklearn.metrics import roc_curve, auc\n",
    "from keras.preprocessing import sequence\n",
    "from keras.backend.tensorflow_backend import set_session\n",
    "\n",
    "#シードの固定\n",
    "def seed(seed):\n",
    "    config = tf.compat.v1.ConfigProto()\n",
    "    config.gpu_options.allow_growth = True\n",
    "    sess = tf.compat.v1.Session(config=config)\n",
    "    tf.compat.v1.keras.backend.set_session(sess)\n",
    "    os.environ['PYTHONHASHSEED'] = '0'\n",
    "    np.random.seed(seed)\n",
    "    rn.seed(seed)\n",
    "    session_conf = tf.compat.v1.ConfigProto(intra_op_parallelism_threads = 1, inter_op_parallelism_threads = 1)\n",
    "    tf.compat.v1.set_random_seed(seed)\n",
    "    session = tf.compat.v1.Session(graph = tf.compat.v1.get_default_graph(), config = session_conf)\n",
    "    tf.compat.v1.keras.backend.set_session(session)"
   ]
  },
  {
   "cell_type": "markdown",
   "metadata": {},
   "source": [
    "# 時間呼び出し"
   ]
  },
  {
   "cell_type": "code",
   "execution_count": null,
   "metadata": {},
   "outputs": [],
   "source": [
    "train_path = '/hoge/hoge.csv'\n",
    "dev_path = '/hoge/hoge.csv'\n",
    "test_path = '/hoge/hoge.csv'\n",
    "df_id_process_time_turn_divide_time_train = pd.read_csv(train_path)\n",
    "df_id_process_time_turn_divide_time_dev = pd.read_csv(dev_path)\n",
    "df_id_process_time_turn_divide_time_test = pd.read_csv(test_path)"
   ]
  },
  {
   "cell_type": "markdown",
   "metadata": {},
   "source": [
    "## 時間をlogに変換"
   ]
  },
  {
   "cell_type": "code",
   "execution_count": 6,
   "metadata": {
    "ExecuteTime": {
     "end_time": "2020-08-19T03:41:28.011851Z",
     "start_time": "2020-08-19T03:41:28.009024Z"
    }
   },
   "outputs": [],
   "source": [
    "def realtime_to_logtime(x):\n",
    "    if x == 0:\n",
    "        return 0\n",
    "    return math.log(x)"
   ]
  },
  {
   "cell_type": "code",
   "execution_count": null,
   "metadata": {
    "ExecuteTime": {
     "end_time": "2020-01-27T04:06:11.141076Z",
     "start_time": "2020-01-27T04:06:10.667236Z"
    }
   },
   "outputs": [],
   "source": []
  },
  {
   "cell_type": "code",
   "execution_count": 7,
   "metadata": {
    "ExecuteTime": {
     "end_time": "2020-08-19T03:41:28.150422Z",
     "start_time": "2020-08-19T03:41:28.014312Z"
    }
   },
   "outputs": [],
   "source": [
    "#numpy.ndarrayに変換\n",
    "log_time_series_train = df_id_process_time_turn_divide_time_train['time'].apply(realtime_to_logtime)\n",
    "\n",
    "log_time_series_dev = df_id_process_time_turn_divide_time_dev['time'].apply(realtime_to_logtime)\n",
    "\n",
    "log_time_series_test = df_id_process_time_turn_divide_time_test['time'].apply(realtime_to_logtime)"
   ]
  },
  {
   "cell_type": "markdown",
   "metadata": {},
   "source": [
    "## レシピの最大手順をリストにする"
   ]
  },
  {
   "cell_type": "code",
   "execution_count": null,
   "metadata": {},
   "outputs": [],
   "source": [
    "train_max_turn_path = '/hoge/hoge.csv'\n",
    "dev_max_turn_path = '/hoge/hoge.csv'\n",
    "test_max_turn_path = '/hoge/hoge.csv'"
   ]
  },
  {
   "cell_type": "code",
   "execution_count": null,
   "metadata": {},
   "outputs": [],
   "source": [
    "df_max_turn_train= pd.read_csv(train_max_turn_path, sep=\",\")\n",
    "\n",
    "max_turn_train_list = df_max_turn_train.values.tolist()"
   ]
  },
  {
   "cell_type": "code",
   "execution_count": null,
   "metadata": {},
   "outputs": [],
   "source": [
    "df_max_turn_dev= pd.read_csv(dev_max_turn_path, sep=\",\")\n",
    "\n",
    "max_turn_dev_list = df_max_turn_dev.values.tolist()"
   ]
  },
  {
   "cell_type": "code",
   "execution_count": null,
   "metadata": {},
   "outputs": [],
   "source": [
    "df_max_turn_test= pd.read_csv(test_max_turn_path, sep=\",\")\n",
    "\n",
    "max_turn_test_list = df_max_turn_test.values.tolist()"
   ]
  },
  {
   "cell_type": "code",
   "execution_count": 11,
   "metadata": {
    "ExecuteTime": {
     "end_time": "2020-08-19T03:41:28.890804Z",
     "start_time": "2020-08-19T03:41:28.606377Z"
    }
   },
   "outputs": [
    {
     "data": {
      "text/plain": [
       "0"
      ]
     },
     "execution_count": 11,
     "metadata": {},
     "output_type": "execute_result"
    }
   ],
   "source": [
    "del df_max_turn_train\n",
    "del df_max_turn_dev\n",
    "del df_max_turn_test\n",
    "gc.collect()"
   ]
  },
  {
   "cell_type": "markdown",
   "metadata": {},
   "source": [
    "## log時間をレシピごとにまとめる"
   ]
  },
  {
   "cell_type": "code",
   "execution_count": 12,
   "metadata": {
    "ExecuteTime": {
     "end_time": "2020-08-19T03:41:28.967352Z",
     "start_time": "2020-08-19T03:41:28.893361Z"
    }
   },
   "outputs": [],
   "source": [
    "def time_procedure_to_process(log_time_series,max_turn_list):\n",
    "    process_log_time_list = []\n",
    "    \n",
    "    count = 0\n",
    "    d = deque(max_turn_list)\n",
    "    #最後のpopが処理されるためにappend\n",
    "    d.append(0)\n",
    "    #divideは各手順の最大手順数\n",
    "    max_turn = d.popleft()\n",
    "    \n",
    "    for log_time in log_time_series:\n",
    "        count += 1\n",
    "        if max_turn[0] == count:\n",
    "            process_log_time_list.append(log_time)\n",
    "            count = 0\n",
    "            max_turn = d.popleft()\n",
    "            \n",
    "    return process_log_time_list"
   ]
  },
  {
   "cell_type": "code",
   "execution_count": 13,
   "metadata": {
    "ExecuteTime": {
     "end_time": "2020-08-19T03:41:29.149858Z",
     "start_time": "2020-08-19T03:41:28.970442Z"
    }
   },
   "outputs": [],
   "source": [
    "log_time_array_train = np.array(time_procedure_to_process(log_time_series_train,max_turn_train_list))"
   ]
  },
  {
   "cell_type": "code",
   "execution_count": 14,
   "metadata": {
    "ExecuteTime": {
     "end_time": "2020-08-19T03:41:29.235775Z",
     "start_time": "2020-08-19T03:41:29.152517Z"
    }
   },
   "outputs": [],
   "source": [
    "log_time_array_dev = np.array(time_procedure_to_process(log_time_series_dev,max_turn_dev_list))"
   ]
  },
  {
   "cell_type": "code",
   "execution_count": 15,
   "metadata": {
    "ExecuteTime": {
     "end_time": "2020-08-19T03:41:29.350833Z",
     "start_time": "2020-08-19T03:41:29.238475Z"
    }
   },
   "outputs": [],
   "source": [
    "log_time_array_test = np.array(time_procedure_to_process(log_time_series_test,max_turn_test_list))"
   ]
  },
  {
   "cell_type": "code",
   "execution_count": 16,
   "metadata": {
    "ExecuteTime": {
     "end_time": "2020-08-19T03:41:29.545243Z",
     "start_time": "2020-08-19T03:41:29.352475Z"
    }
   },
   "outputs": [
    {
     "data": {
      "text/plain": [
       "20"
      ]
     },
     "execution_count": 16,
     "metadata": {},
     "output_type": "execute_result"
    }
   ],
   "source": [
    "del log_time_series_train\n",
    "del log_time_series_dev\n",
    "del log_time_series_test\n",
    "gc.collect()"
   ]
  },
  {
   "cell_type": "markdown",
   "metadata": {},
   "source": [
    "# 単語にインデックスを割り当てる"
   ]
  },
  {
   "cell_type": "code",
   "execution_count": 17,
   "metadata": {
    "ExecuteTime": {
     "end_time": "2020-08-19T03:41:29.610199Z",
     "start_time": "2020-08-19T03:41:29.546731Z"
    }
   },
   "outputs": [],
   "source": [
    "word_list = word2vec_matrix.wv.index2word"
   ]
  },
  {
   "cell_type": "code",
   "execution_count": 18,
   "metadata": {
    "ExecuteTime": {
     "end_time": "2020-08-19T03:41:29.717260Z",
     "start_time": "2020-08-19T03:41:29.613281Z"
    }
   },
   "outputs": [],
   "source": [
    "word_index_dic = {}\n",
    "index = 1\n",
    "#unkのindexは０とする\n",
    "word_index_dic['<unk>'] = 0\n",
    "for word in word_list:\n",
    "    if word not in word_index_dic:\n",
    "        word_index_dic[word] = index\n",
    "        index += 1"
   ]
  },
  {
   "cell_type": "markdown",
   "metadata": {},
   "source": [
    "## mecabしたレシピを対応づける"
   ]
  },
  {
   "cell_type": "code",
   "execution_count": null,
   "metadata": {},
   "outputs": [],
   "source": [
    "train_mecab_path = '/hoge/hoge.csv'\n",
    "dev_mecab_path = '/hoge/hoge.csv'\n",
    "test_mecab_path = '/hoge/hoge.csv'"
   ]
  },
  {
   "cell_type": "code",
   "execution_count": null,
   "metadata": {},
   "outputs": [],
   "source": [
    "with open(train_mecab_path) as f:\n",
    "    reader = csv.reader(f)\n",
    "    mecab_procedure_words_train_list = [row for row in reader]"
   ]
  },
  {
   "cell_type": "code",
   "execution_count": null,
   "metadata": {},
   "outputs": [],
   "source": [
    "with open(dev_mecab_path) as f:\n",
    "    reader = csv.reader(f)\n",
    "    mecab_procedure_words_dev_list = [row for row in reader]"
   ]
  },
  {
   "cell_type": "code",
   "execution_count": null,
   "metadata": {},
   "outputs": [],
   "source": [
    "with open(test_mecab_path) as f:\n",
    "    reader = csv.reader(f)\n",
    "    mecab_procedure_words_test_list = [row for row in reader]"
   ]
  },
  {
   "cell_type": "markdown",
   "metadata": {},
   "source": [
    "## 手順をまとめる"
   ]
  },
  {
   "cell_type": "code",
   "execution_count": 22,
   "metadata": {
    "ExecuteTime": {
     "end_time": "2020-08-19T03:41:30.574099Z",
     "start_time": "2020-08-19T03:41:30.565113Z"
    }
   },
   "outputs": [],
   "source": [
    "def procedure_to_process(mecab_procedure_words_list,max_turn_list):\n",
    "        process_words_list = []\n",
    "        process_word_list = []\n",
    "        count = 0\n",
    "        d = deque(max_turn_list)\n",
    "        d.append(0)\n",
    "        \n",
    "        max_turn = d.popleft()\n",
    "        \n",
    "        \n",
    "        for procedure_word_list in mecab_procedure_words_list:\n",
    "            count += 1\n",
    "            procedure_word_list = deque(procedure_word_list)\n",
    "            procedure_word_list.popleft()\n",
    "            procedure_word_list.pop()\n",
    "            \n",
    "            if count == max_turn[0]:\n",
    "                process_word_list.extend(procedure_word_list)\n",
    "                \n",
    "                process_word_list.insert(0,'<bop>')\n",
    "                process_word_list.append('<eop>')\n",
    "                \n",
    "                process_words_list.append(process_word_list)\n",
    "                process_word_list = []\n",
    "                count = 0\n",
    "                max_turn = d.popleft()\n",
    "            else:\n",
    "                process_word_list.extend(procedure_word_list)\n",
    "            \n",
    "        return process_words_list            "
   ]
  },
  {
   "cell_type": "code",
   "execution_count": 23,
   "metadata": {
    "ExecuteTime": {
     "end_time": "2020-08-19T03:41:30.789531Z",
     "start_time": "2020-08-19T03:41:30.579406Z"
    }
   },
   "outputs": [],
   "source": [
    "mecab_process_words_train_list = procedure_to_process(mecab_procedure_words_train_list,max_turn_train_list)"
   ]
  },
  {
   "cell_type": "code",
   "execution_count": 24,
   "metadata": {
    "ExecuteTime": {
     "end_time": "2020-08-19T03:41:30.827630Z",
     "start_time": "2020-08-19T03:41:30.792824Z"
    }
   },
   "outputs": [],
   "source": [
    "mecab_process_words_dev_list = procedure_to_process(mecab_procedure_words_dev_list,max_turn_dev_list)"
   ]
  },
  {
   "cell_type": "code",
   "execution_count": 25,
   "metadata": {
    "ExecuteTime": {
     "end_time": "2020-08-19T03:41:30.977915Z",
     "start_time": "2020-08-19T03:41:30.829935Z"
    }
   },
   "outputs": [],
   "source": [
    "mecab_process_words_test_list = procedure_to_process(mecab_procedure_words_test_list,max_turn_test_list)"
   ]
  },
  {
   "cell_type": "code",
   "execution_count": 26,
   "metadata": {
    "ExecuteTime": {
     "end_time": "2020-08-19T03:41:31.236285Z",
     "start_time": "2020-08-19T03:41:30.980326Z"
    }
   },
   "outputs": [
    {
     "data": {
      "text/plain": [
       "20"
      ]
     },
     "execution_count": 26,
     "metadata": {},
     "output_type": "execute_result"
    }
   ],
   "source": [
    "del mecab_procedure_words_train_list\n",
    "del mecab_procedure_words_dev_list\n",
    "# del mecab_procedure_words_test_list\n",
    "gc.collect()"
   ]
  },
  {
   "cell_type": "code",
   "execution_count": 27,
   "metadata": {
    "ExecuteTime": {
     "end_time": "2020-08-19T03:41:31.335502Z",
     "start_time": "2020-08-19T03:41:31.237681Z"
    }
   },
   "outputs": [],
   "source": [
    "def get_words_index_list(mecab_procedure_words_list,max_turn_list):\n",
    "    process_index_list = []\n",
    "    d = deque(max_turn_list)\n",
    "    #最後のpopが処理されるためにappend\n",
    "    d.append(0)\n",
    "    #divideは各手順の最大手順数\n",
    "    max_turn = d.popleft()\n",
    "\n",
    "    for procedure_words_list in mecab_procedure_words_list:\n",
    "        procedure_index_list = []\n",
    "  \n",
    "        for word in procedure_words_list:\n",
    "            procedure_index_list.append(word_index_dic[word])\n",
    "\n",
    "        process_index_list.append(procedure_index_list)\n",
    "    return process_index_list            "
   ]
  },
  {
   "cell_type": "code",
   "execution_count": 28,
   "metadata": {
    "ExecuteTime": {
     "end_time": "2020-08-19T03:41:31.654989Z",
     "start_time": "2020-08-19T03:41:31.338001Z"
    }
   },
   "outputs": [],
   "source": [
    "word_index_train_list = get_words_index_list(mecab_process_words_train_list,max_turn_train_list)"
   ]
  },
  {
   "cell_type": "code",
   "execution_count": 29,
   "metadata": {
    "ExecuteTime": {
     "end_time": "2020-08-19T03:41:31.772670Z",
     "start_time": "2020-08-19T03:41:31.657779Z"
    }
   },
   "outputs": [],
   "source": [
    "word_index_dev_list = get_words_index_list(mecab_process_words_dev_list,max_turn_dev_list)"
   ]
  },
  {
   "cell_type": "code",
   "execution_count": 30,
   "metadata": {
    "ExecuteTime": {
     "end_time": "2020-08-19T03:41:36.693726Z",
     "start_time": "2020-08-19T03:41:31.774107Z"
    }
   },
   "outputs": [],
   "source": [
    "#testデータが元のままでunkをunkとしていなかった\n",
    "processes_test_list = []\n",
    "for process in mecab_process_words_test_list:\n",
    "    process_test_list = []\n",
    "    for word in process:\n",
    "        if word in word_list:\n",
    "            process_test_list.append(word)\n",
    "        else:\n",
    "            process_test_list.append('<unk>')\n",
    "    processes_test_list.append(process_test_list)"
   ]
  },
  {
   "cell_type": "code",
   "execution_count": 31,
   "metadata": {
    "ExecuteTime": {
     "end_time": "2020-08-19T03:41:36.844190Z",
     "start_time": "2020-08-19T03:41:36.696332Z"
    }
   },
   "outputs": [],
   "source": [
    "word_index_test_list = get_words_index_list(processes_test_list,max_turn_test_list)"
   ]
  },
  {
   "cell_type": "markdown",
   "metadata": {},
   "source": [
    "# trainだけベクトルを持つembedding_matrixの作成"
   ]
  },
  {
   "cell_type": "code",
   "execution_count": 32,
   "metadata": {
    "ExecuteTime": {
     "end_time": "2020-08-19T03:41:36.848296Z",
     "start_time": "2020-08-19T03:41:36.845694Z"
    }
   },
   "outputs": [],
   "source": [
    "#valueからkeyを抽出\n",
    "def get_keys_from_value(d, val):\n",
    "    return [k for k, v in d.items() if v == val]"
   ]
  },
  {
   "cell_type": "code",
   "execution_count": null,
   "metadata": {},
   "outputs": [],
   "source": [
    "size = len(word2vec_matrix[word_list[0]].tolist())"
   ]
  },
  {
   "cell_type": "code",
   "execution_count": 34,
   "metadata": {
    "ExecuteTime": {
     "end_time": "2020-08-19T03:41:37.011960Z",
     "start_time": "2020-08-19T03:41:36.991228Z"
    }
   },
   "outputs": [],
   "source": [
    "unk_list = np.zeros(size).tolist()"
   ]
  },
  {
   "cell_type": "code",
   "execution_count": null,
   "metadata": {},
   "outputs": [],
   "source": [
    "#train,dev,test全ての単語を使用\n",
    "#trainに対応しないdev,testの単語は全て０ベクトルとなる\n",
    "#<unk>も０ベクトルとする\n",
    "size = len(word2vec_matrix[word_list[0]].tolist())\n",
    "embedding_matrix = np.zeros((len(word_index_dic)+1, size))\n",
    "used_index = []\n",
    "for procedure_index in word_index_train_list:\n",
    "    for index in procedure_index:\n",
    "        if index not in used_index:\n",
    "            word = get_keys_from_value(word_index_dic,index)[0]\n",
    "            if word == '<unk>':\n",
    "                embedding_matrix[index] = unk_list\n",
    "            else:\n",
    "                embedding_matrix[index] = word2vec_matrix[word].tolist()\n",
    "            used_index.append(index)"
   ]
  },
  {
   "cell_type": "code",
   "execution_count": 36,
   "metadata": {
    "ExecuteTime": {
     "end_time": "2020-08-19T03:41:51.597434Z",
     "start_time": "2020-08-19T03:41:51.295389Z"
    }
   },
   "outputs": [
    {
     "data": {
      "text/plain": [
       "20"
      ]
     },
     "execution_count": 36,
     "metadata": {},
     "output_type": "execute_result"
    }
   ],
   "source": [
    "del used_index\n",
    "gc.collect()"
   ]
  },
  {
   "cell_type": "code",
   "execution_count": 37,
   "metadata": {
    "ExecuteTime": {
     "end_time": "2020-08-19T03:41:51.716319Z",
     "start_time": "2020-08-19T03:41:51.598830Z"
    }
   },
   "outputs": [],
   "source": [
    "max_len_train = max([len(i) for i in word_index_train_list])\n",
    "max_len_dev = max([len(i) for i in word_index_dev_list])\n",
    "max_len_test = max([len(i) for i in word_index_test_list])"
   ]
  },
  {
   "cell_type": "code",
   "execution_count": 38,
   "metadata": {
    "ExecuteTime": {
     "end_time": "2020-08-19T03:41:51.856049Z",
     "start_time": "2020-08-19T03:41:51.718975Z"
    }
   },
   "outputs": [],
   "source": [
    "if max_len_train > max_len_test and max_len_train > max_len_dev:\n",
    "    max_len = max_len_train\n",
    "elif max_len_dev > max_len_train and max_len_dev > max_len_test:\n",
    "        max_len = max_len_dev\n",
    "else:\n",
    "    max_len = max_len_test"
   ]
  },
  {
   "cell_type": "code",
   "execution_count": 39,
   "metadata": {
    "ExecuteTime": {
     "end_time": "2020-08-19T03:41:51.984093Z",
     "start_time": "2020-08-19T03:41:51.858811Z"
    }
   },
   "outputs": [],
   "source": [
    "# max_len_train,max_len_dev,max_len_test"
   ]
  },
  {
   "cell_type": "markdown",
   "metadata": {},
   "source": [
    "# パディング"
   ]
  },
  {
   "cell_type": "markdown",
   "metadata": {},
   "source": [
    "## 後ろpadding"
   ]
  },
  {
   "cell_type": "code",
   "execution_count": 40,
   "metadata": {
    "ExecuteTime": {
     "end_time": "2020-08-19T03:41:52.118730Z",
     "start_time": "2020-08-19T03:41:51.986733Z"
    }
   },
   "outputs": [],
   "source": [
    "index_for_padding = len(embedding_matrix)-1"
   ]
  },
  {
   "cell_type": "code",
   "execution_count": 41,
   "metadata": {
    "ExecuteTime": {
     "end_time": "2020-08-19T03:41:52.209990Z",
     "start_time": "2020-08-19T03:41:52.121105Z"
    }
   },
   "outputs": [],
   "source": [
    "def padding_index_list(num):\n",
    "    return [index_for_padding] * num"
   ]
  },
  {
   "cell_type": "code",
   "execution_count": 42,
   "metadata": {
    "ExecuteTime": {
     "end_time": "2020-08-19T03:41:52.788192Z",
     "start_time": "2020-08-19T03:41:52.212335Z"
    }
   },
   "outputs": [],
   "source": [
    "copy_index_train_list = copy.deepcopy(word_index_train_list)\n",
    "\n",
    "for index,word_index_list in enumerate(copy_index_train_list):\n",
    "    pad_num = max_len - len(word_index_list)\n",
    "    word_index_train_list[index].extend(padding_index_list(pad_num))"
   ]
  },
  {
   "cell_type": "code",
   "execution_count": 43,
   "metadata": {
    "ExecuteTime": {
     "end_time": "2020-08-19T03:41:53.012698Z",
     "start_time": "2020-08-19T03:41:52.790044Z"
    }
   },
   "outputs": [],
   "source": [
    "copy_index_dev_list = copy.deepcopy(word_index_dev_list)\n",
    "\n",
    "for index,word_index_list in enumerate(copy_index_dev_list):\n",
    "    pad_num = max_len - len(word_index_list)\n",
    "    word_index_dev_list[index].extend(padding_index_list(pad_num))"
   ]
  },
  {
   "cell_type": "markdown",
   "metadata": {},
   "source": [
    "## paddingされたものの場所をあらわすone-hot-vector"
   ]
  },
  {
   "cell_type": "code",
   "execution_count": 44,
   "metadata": {
    "ExecuteTime": {
     "end_time": "2020-08-19T03:41:53.016767Z",
     "start_time": "2020-08-19T03:41:53.014223Z"
    }
   },
   "outputs": [],
   "source": [
    "row_train = len(word_index_train_list[0])\n",
    "row_dev = len(word_index_dev_list[0])\n",
    "\n",
    "column = 1\n",
    "\n",
    "batch_train = len(word_index_train_list)\n",
    "batch_dev = len(word_index_dev_list)"
   ]
  },
  {
   "cell_type": "code",
   "execution_count": 45,
   "metadata": {
    "ExecuteTime": {
     "end_time": "2020-08-19T03:42:01.354949Z",
     "start_time": "2020-08-19T03:41:53.018060Z"
    }
   },
   "outputs": [],
   "source": [
    "#(barch,row,column)のlistを0で初期化\n",
    "paded_one_hot_vector_train_list = [[[0.0] * column for i in range(row_train)] for j in range(batch_train)]\n",
    "word_len_train_list = [len(i) for i in mecab_process_words_train_list]\n",
    "\n",
    "paded_one_hot_vector_dev_list = [[[0.0] * column for i in range(row_dev)] for j in range(batch_dev)]\n",
    "word_len_dev_list = [len(i) for i in mecab_process_words_dev_list]\n"
   ]
  },
  {
   "cell_type": "code",
   "execution_count": 46,
   "metadata": {
    "ExecuteTime": {
     "end_time": "2020-08-19T03:42:02.213235Z",
     "start_time": "2020-08-19T03:42:01.356534Z"
    }
   },
   "outputs": [
    {
     "data": {
      "text/plain": [
       "20"
      ]
     },
     "execution_count": 46,
     "metadata": {},
     "output_type": "execute_result"
    }
   ],
   "source": [
    "del mecab_process_words_train_list\n",
    "del mecab_process_words_dev_list\n",
    "gc.collect()"
   ]
  },
  {
   "cell_type": "code",
   "execution_count": 47,
   "metadata": {
    "ExecuteTime": {
     "end_time": "2020-08-19T03:42:02.834896Z",
     "start_time": "2020-08-19T03:42:02.214620Z"
    }
   },
   "outputs": [],
   "source": [
    "#paddingされた所は0,されていない所は1のlist\n",
    "\n",
    "for index,word_len in enumerate(word_len_train_list):\n",
    "    \n",
    "    #padding以降を1に変換\n",
    "    #後ろpaddingを想定\n",
    "    for i in range(word_len):\n",
    "        paded_one_hot_vector_train_list[index][i] = [1.0] * column\n",
    "\n",
    "for index,word_len in enumerate(word_len_dev_list):\n",
    "    \n",
    "    #padding以降を1に変換\n",
    "    #後ろpaddingを想定\n",
    "    for i in range(word_len):\n",
    "        paded_one_hot_vector_dev_list[index][i] = [1.0] * column"
   ]
  },
  {
   "cell_type": "code",
   "execution_count": 48,
   "metadata": {
    "ExecuteTime": {
     "end_time": "2020-08-19T03:42:05.649456Z",
     "start_time": "2020-08-19T03:42:02.836464Z"
    }
   },
   "outputs": [],
   "source": [
    "paded_one_hot_vector_train_array = np.array(paded_one_hot_vector_train_list)\n",
    "paded_one_hot_vector_dev_array = np.array(paded_one_hot_vector_dev_list)"
   ]
  },
  {
   "cell_type": "code",
   "execution_count": 49,
   "metadata": {
    "ExecuteTime": {
     "end_time": "2020-08-19T03:42:06.534033Z",
     "start_time": "2020-08-19T03:42:05.650902Z"
    }
   },
   "outputs": [
    {
     "data": {
      "text/plain": [
       "60"
      ]
     },
     "execution_count": 49,
     "metadata": {},
     "output_type": "execute_result"
    }
   ],
   "source": [
    "del paded_one_hot_vector_train_list\n",
    "del paded_one_hot_vector_dev_list\n",
    "\n",
    "gc.collect()"
   ]
  },
  {
   "cell_type": "markdown",
   "metadata": {},
   "source": [
    "# モデルの構築"
   ]
  },
  {
   "cell_type": "code",
   "execution_count": 50,
   "metadata": {
    "ExecuteTime": {
     "end_time": "2020-08-19T03:42:06.600189Z",
     "start_time": "2020-08-19T03:42:06.535704Z"
    }
   },
   "outputs": [],
   "source": [
    "time_steps = max_len\n",
    "input_dim = size"
   ]
  },
  {
   "cell_type": "markdown",
   "metadata": {},
   "source": [
    "## attention"
   ]
  },
  {
   "cell_type": "code",
   "execution_count": 51,
   "metadata": {
    "ExecuteTime": {
     "end_time": "2020-08-19T03:42:06.687521Z",
     "start_time": "2020-08-19T03:42:06.601432Z"
    }
   },
   "outputs": [],
   "source": [
    "class Attention_layer(Layer):\n",
    "    \n",
    "    def __init__(self, init='glorot_uniform', **kwargs):\n",
    "        super(Attention_layer, self).__init__(**kwargs)\n",
    "        self.supports_masking = True\n",
    "        self.init = initializers.get(init)\n",
    "\n",
    "    def build(self, input_shape):\n",
    "        # input_shape = [(batch_size, input_dim, time_steps),(batch_size, input_dim, time_steps)]\n",
    "        #前がlstm_out,後ろがmask\n",
    "        assert len(input_shape[0]) == 3\n",
    "        \n",
    "        input_dim= input_shape[0][-1]\n",
    "        batch_size = input_shape[0][0]\n",
    "\n",
    "        self.kernel = self.add_weight(\n",
    "            shape=(input_dim,1),\n",
    "            name='kernel',\n",
    "            initializer=self.init,\n",
    "            trainable=True)\n",
    "        \n",
    "        self.W = self.add_weight(\n",
    "        shape=(input_dim,input_dim),\n",
    "        name='W',\n",
    "        initializer=self.init,\n",
    "        trainable=True)\n",
    "        \n",
    "        self.b = self.add_weight(\n",
    "        shape=(input_dim),\n",
    "        name='bias',\n",
    "        initializer='zero',\n",
    "        trainable=True)\n",
    "\n",
    "        super(Attention_layer, self).build(input_shape)\n",
    "\n",
    "    def call(self, x, mask=None):\n",
    "       \n",
    "        lstm_out = x[0]\n",
    "        mask = x[1]\n",
    "        \n",
    "        ui = K.dot(lstm_out,self.W) \n",
    "        ui += self.b\n",
    "        ui = K.tanh(ui)\n",
    "        \n",
    "        dot = K.dot(ui,self.kernel)\n",
    "        \n",
    "        \n",
    "        multData = K.exp(dot)\n",
    "        #print(K.int_shape(K.dot(self.kernel,x)))\n",
    "        \n",
    "        mask = Lambda(lambda x: tf.multiply(x[0],x[1]),name='masking')([mask,multData])\n",
    "        \n",
    "        output = mask/(K.sum(mask, axis=1)+K.epsilon())[:, None]\n",
    "       \n",
    "       # return K.reshape(output, (output.shape[0],output.shape[1],1))\n",
    "        \n",
    "        return output\n",
    "\n",
    "    def get_output_shape_for(self, input_shape):\n",
    "        return (input_shape[0], input_shape[1],1)"
   ]
  },
  {
   "cell_type": "markdown",
   "metadata": {},
   "source": [
    "## LSTM"
   ]
  },
  {
   "cell_type": "code",
   "execution_count": 52,
   "metadata": {
    "ExecuteTime": {
     "end_time": "2020-08-19T03:42:06.785773Z",
     "start_time": "2020-08-19T03:42:06.690281Z"
    },
    "code_folding": []
   },
   "outputs": [],
   "source": [
    "def model_attention_applied_after_lstm():\n",
    "    #重みを固定する\n",
    "    seed(1)\n",
    "    inputs = Input(shape=(time_steps,), name='main_input')\n",
    "    mask_input = Input(shape=(time_steps,1,),name='mask_input')\n",
    "    \n",
    "    embedding = Embedding(\n",
    "        input_dim = embedding_matrix.shape[0],\n",
    "        output_dim = embedding_matrix.shape[1],\n",
    "        weights = [embedding_matrix],\n",
    "        trainable = False,\n",
    "        name = 'embedding')(inputs)\n",
    "\n",
    "    #Dropout\n",
    "    embedding = Dropout(DROPOUT)(embedding) \n",
    "\n",
    "    lstm_out = Bidirectional(\n",
    "        LSTM(LSTM_UNITS,\n",
    "             return_sequences=True,\n",
    "             activation='tanh',\n",
    "             name='biLSTM'),\n",
    "        merge_mode='ave')(embedding)\n",
    "    \n",
    "    attention = Attention_layer(name='attention')([lstm_out,mask_input])\n",
    "\n",
    "    attention_mul = Lambda(\n",
    "        lambda x: x[0]*x[1],\n",
    "        name='attention_mul')([lstm_out, attention])\n",
    "\n",
    "    attention_merge = Lambda(\n",
    "        lambda x: K.sum(x, axis=1),\n",
    "        output_shape=lambda x: (x[0], x[2]),\n",
    "        name=\"attention_sum\")(attention_mul)\n",
    "    \n",
    "    output = Dense(1, name='regression')(attention_merge)\n",
    "\n",
    "\n",
    "    model = Model(inputs=[inputs,mask_input], output=output)\n",
    "    adam = optimizers.Adam()\n",
    "    model.compile(loss='mean_squared_error', optimizer=adam)\n",
    "    return model"
   ]
  },
  {
   "cell_type": "code",
   "execution_count": 53,
   "metadata": {
    "ExecuteTime": {
     "end_time": "2020-08-19T03:42:06.894491Z",
     "start_time": "2020-08-19T03:42:06.788239Z"
    }
   },
   "outputs": [],
   "source": [
    "#model_plot = model_attention_applied_after_lstm()\n",
    "#plot_model(model_plot,show_shapes=True,to_file='/home/okazaki/time_measure/data_file/result_file/model.png')"
   ]
  },
  {
   "cell_type": "markdown",
   "metadata": {},
   "source": [
    "# データサイズ"
   ]
  },
  {
   "cell_type": "code",
   "execution_count": 79,
   "metadata": {
    "ExecuteTime": {
     "end_time": "2020-08-19T04:14:46.555156Z",
     "start_time": "2020-08-19T04:14:46.550386Z"
    }
   },
   "outputs": [],
   "source": [
    "train_recipe_size = 10000\n",
    "valid_recipe_size = 5000\n"
   ]
  },
  {
   "cell_type": "code",
   "execution_count": 80,
   "metadata": {
    "ExecuteTime": {
     "end_time": "2020-08-19T04:14:47.217535Z",
     "start_time": "2020-08-19T04:14:46.694732Z"
    }
   },
   "outputs": [],
   "source": [
    "word_index_train_nparray = np.array(word_index_train_list)"
   ]
  },
  {
   "cell_type": "code",
   "execution_count": 81,
   "metadata": {
    "ExecuteTime": {
     "end_time": "2020-08-19T04:14:47.510413Z",
     "start_time": "2020-08-19T04:14:47.220478Z"
    }
   },
   "outputs": [],
   "source": [
    "word_index_dev_nparray = np.array(word_index_dev_list)"
   ]
  },
  {
   "cell_type": "code",
   "execution_count": 82,
   "metadata": {
    "ExecuteTime": {
     "end_time": "2020-08-19T04:14:47.574896Z",
     "start_time": "2020-08-19T04:14:47.513669Z"
    }
   },
   "outputs": [],
   "source": [
    "X_train = word_index_train_nparray[:train_recipe_size]\n",
    "X_valid = word_index_dev_nparray[:valid_recipe_size]\n",
    "\n",
    "Y_train = log_time_array_train[:train_recipe_size]\n",
    "Y_valid = log_time_array_dev[:valid_recipe_size]\n",
    "\n",
    "mask_train = paded_one_hot_vector_train_array[:train_recipe_size]\n",
    "mask_valid = paded_one_hot_vector_dev_array[:valid_recipe_size]"
   ]
  },
  {
   "cell_type": "code",
   "execution_count": 58,
   "metadata": {
    "ExecuteTime": {
     "end_time": "2020-08-19T03:42:08.194400Z",
     "start_time": "2020-08-19T03:42:08.075349Z"
    }
   },
   "outputs": [],
   "source": [
    "# word_index_train_list[0]"
   ]
  },
  {
   "cell_type": "code",
   "execution_count": 61,
   "metadata": {
    "ExecuteTime": {
     "end_time": "2020-07-05T07:06:20.089900Z",
     "start_time": "2020-07-05T07:06:19.761881Z"
    }
   },
   "outputs": [
    {
     "data": {
      "text/plain": [
       "180"
      ]
     },
     "execution_count": 61,
     "metadata": {},
     "output_type": "execute_result"
    }
   ],
   "source": [
    "del word_index_train_nparray\n",
    "del word_index_dev_nparray\n",
    "\n",
    "del log_time_array_train\n",
    "del log_time_array_dev\n",
    "\n",
    "del paded_one_hot_vector_train_array\n",
    "del paded_one_hot_vector_dev_array\n",
    "\n",
    "gc.collect()"
   ]
  },
  {
   "cell_type": "markdown",
   "metadata": {},
   "source": [
    "# fit"
   ]
  },
  {
   "cell_type": "code",
   "execution_count": 83,
   "metadata": {
    "ExecuteTime": {
     "end_time": "2020-08-19T04:14:49.572109Z",
     "start_time": "2020-08-19T04:14:49.561152Z"
    }
   },
   "outputs": [],
   "source": [
    "time_dev_list = df_id_process_time_turn_divide_time_dev['time'].tolist()\n",
    "time_dev_list = time_procedure_to_process(time_dev_list,max_turn_dev_list)\n",
    "a1=(math.log(5)+math.log(10))/2\n",
    "a2=(math.log(10)+math.log(15))/2\n",
    "a3=(math.log(15)+math.log(30))/2\n",
    "a4=(math.log(30)+math.log(60))/2"
   ]
  },
  {
   "cell_type": "code",
   "execution_count": 84,
   "metadata": {
    "ExecuteTime": {
     "end_time": "2020-08-19T04:14:49.820379Z",
     "start_time": "2020-08-19T04:14:49.816053Z"
    }
   },
   "outputs": [],
   "source": [
    "def strict_acc(pred_dev):\n",
    "    c5 = 0\n",
    "    c10 = 0\n",
    "    c15 = 0\n",
    "    c30 = 0\n",
    "    c60 = 0\n",
    "    for ans_time, pred_time in zip(time_dev_list, pred_dev):\n",
    "        if ans_time == 5:\n",
    "            if pred_time <= a1:\n",
    "                c5 += 1\n",
    "        elif ans_time == 10:\n",
    "            if a1 < pred_time <= a2:\n",
    "                c10 += 1\n",
    "        elif ans_time == 15:\n",
    "            if a2 < pred_time <= a3:\n",
    "                c15 += 1\n",
    "        elif ans_time == 30:\n",
    "            if a3 < pred_time <= a4:\n",
    "                c30 += 1\n",
    "        elif ans_time == 60:\n",
    "            if a4 < pred_time:\n",
    "                c60 += 1\n",
    " \n",
    "    return (c5+c10+c15+c30+c60)/len(pred_dev)"
   ]
  },
  {
   "cell_type": "code",
   "execution_count": null,
   "metadata": {},
   "outputs": [],
   "source": [
    "model = model_attention_applied_after_lstm()\n",
    "y_train = Y_train\n",
    "\n",
    "count = 0\n",
    "before_loss = 100\n",
    "best_loss = 100\n",
    "save_path = '/hoge/hoge.hdf5'\n",
    "\n",
    "j = 0\n",
    "max_ACC = 0\n",
    "seed(1)\n",
    "# trainingにあるレシピをROUND回ループさせる\n",
    "while(1):\n",
    "    print('######################')\n",
    "    j += 1\n",
    "    print('%d回目' % j)\n",
    "    \n",
    "    his = model.fit([X_train, mask_train], y_train,\n",
    "                    batch_size=BATCH_SIZE, epochs=1, verbose=1)\n",
    "\n",
    "    train_loss = his.history['loss'][0]\n",
    "    if best_loss > train_loss:\n",
    "        best_loss = train_loss\n",
    "        count = 0\n",
    "    else:\n",
    "        count += 1\n",
    "    # best_lossが10回連続更新されなかったらbreak\n",
    "    if count >= 10:\n",
    "        break \n",
    "    \n",
    "    \n",
    "    pred_dev = model.predict([X_valid, mask_valid]).flatten()\n",
    "    acc_dev = strict_acc(pred_dev)\n",
    "   \n",
    "\n",
    "    # best_modelの保存\n",
    "    if max_ACC < acc_dev:\n",
    "        json_string = model.to_json()\n",
    "        model.save(save_path)\n",
    "        y_train_best = y_train\n",
    "        jj = j\n",
    "        # 最小のMSEを変更\n",
    "        max_ACC = acc_dev\n",
    "\n",
    "    print('acc_dev=%f %d回目:max_ACC=%f' % (acc_dev, jj, max_ACC))"
   ]
  },
  {
   "cell_type": "code",
   "execution_count": null,
   "metadata": {},
   "outputs": [],
   "source": []
  },
  {
   "cell_type": "code",
   "execution_count": null,
   "metadata": {},
   "outputs": [],
   "source": []
  },
  {
   "cell_type": "code",
   "execution_count": null,
   "metadata": {},
   "outputs": [],
   "source": []
  },
  {
   "cell_type": "code",
   "execution_count": null,
   "metadata": {},
   "outputs": [],
   "source": []
  },
  {
   "cell_type": "code",
   "execution_count": null,
   "metadata": {},
   "outputs": [],
   "source": []
  }
 ],
 "metadata": {
  "kernelspec": {
   "display_name": "Python 3",
   "language": "python",
   "name": "python3"
  },
  "language_info": {
   "codemirror_mode": {
    "name": "ipython",
    "version": 3
   },
   "file_extension": ".py",
   "mimetype": "text/x-python",
   "name": "python",
   "nbconvert_exporter": "python",
   "pygments_lexer": "ipython3",
   "version": "3.7.3"
  },
  "toc": {
   "base_numbering": 1,
   "nav_menu": {},
   "number_sections": true,
   "sideBar": true,
   "skip_h1_title": false,
   "title_cell": "Table of Contents",
   "title_sidebar": "Contents",
   "toc_cell": false,
   "toc_position": {
    "height": "calc(100% - 180px)",
    "left": "10px",
    "top": "150px",
    "width": "165px"
   },
   "toc_section_display": true,
   "toc_window_display": true
  },
  "varInspector": {
   "cols": {
    "lenName": 16,
    "lenType": 16,
    "lenVar": 40
   },
   "kernels_config": {
    "python": {
     "delete_cmd_postfix": "",
     "delete_cmd_prefix": "del ",
     "library": "var_list.py",
     "varRefreshCmd": "print(var_dic_list())"
    },
    "r": {
     "delete_cmd_postfix": ") ",
     "delete_cmd_prefix": "rm(",
     "library": "var_list.r",
     "varRefreshCmd": "cat(var_dic_list()) "
    }
   },
   "types_to_exclude": [
    "module",
    "function",
    "builtin_function_or_method",
    "instance",
    "_Feature"
   ],
   "window_display": false
  }
 },
 "nbformat": 4,
 "nbformat_minor": 2
}
